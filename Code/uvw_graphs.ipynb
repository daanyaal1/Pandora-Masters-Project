{
 "cells": [
  {
   "cell_type": "code",
   "execution_count": 57,
   "metadata": {},
   "outputs": [],
   "source": [
    "import pandas as pd\n",
    "import numpy as np\n",
    "import seaborn as sns\n",
    "import matplotlib.pyplot as plt\n",
    "from sklearn.neural_network import MLPClassifier\n",
    "from sklearn.model_selection import train_test_split\n",
    "from sklearn.metrics import accuracy_score\n",
    "from sklearn.metrics import confusion_matrix\n",
    "from sklearn.metrics import f1_score\n",
    "import xgboost as xgb\n",
    "from sklearn.ensemble import GradientBoostingClassifier\n",
    "from sklearn.model_selection import cross_val_predict\n",
    "from sklearn.metrics import confusion_matrix"
   ]
  },
  {
   "cell_type": "code",
   "execution_count": 3,
   "metadata": {},
   "outputs": [
    {
     "data": {
      "text/html": [
       "<div>\n",
       "<style scoped>\n",
       "    .dataframe tbody tr th:only-of-type {\n",
       "        vertical-align: middle;\n",
       "    }\n",
       "\n",
       "    .dataframe tbody tr th {\n",
       "        vertical-align: top;\n",
       "    }\n",
       "\n",
       "    .dataframe thead th {\n",
       "        text-align: right;\n",
       "    }\n",
       "</style>\n",
       "<table border=\"1\" class=\"dataframe\">\n",
       "  <thead>\n",
       "    <tr style=\"text-align: right;\">\n",
       "      <th></th>\n",
       "      <th>isTrueTrack</th>\n",
       "      <th>pdg</th>\n",
       "      <th>completeness</th>\n",
       "      <th>purity</th>\n",
       "      <th>xu</th>\n",
       "      <th>zu</th>\n",
       "      <th>xv</th>\n",
       "      <th>zv</th>\n",
       "      <th>xw</th>\n",
       "      <th>zw</th>\n",
       "      <th>...</th>\n",
       "      <th>nHits</th>\n",
       "      <th>RSSu</th>\n",
       "      <th>RSSv</th>\n",
       "      <th>RSSw</th>\n",
       "      <th>envelopeu</th>\n",
       "      <th>envelopev</th>\n",
       "      <th>envelopew</th>\n",
       "      <th>lengthu</th>\n",
       "      <th>lengthv</th>\n",
       "      <th>lengthw</th>\n",
       "    </tr>\n",
       "  </thead>\n",
       "  <tbody>\n",
       "    <tr>\n",
       "      <th>0</th>\n",
       "      <td>1</td>\n",
       "      <td>2212</td>\n",
       "      <td>1.000000</td>\n",
       "      <td>0.909091</td>\n",
       "      <td>[119.256, 119.227, 118.956, 118.596, 118.286, ...</td>\n",
       "      <td>[452.06, 452.36, 452.66, 452.96, 453.26, 453.5...</td>\n",
       "      <td>[119.231, 119.332, 119.104, 118.985, 118.887, ...</td>\n",
       "      <td>[393.74, 394.04, 394.64, 394.94, 395.24, 395.5...</td>\n",
       "      <td>[119.384, 119.3, 119.172, 119.087, 119.007, 11...</td>\n",
       "      <td>[846.25, 846.55, 846.85, 847.15, 847.45, 847.7...</td>\n",
       "      <td>...</td>\n",
       "      <td>41</td>\n",
       "      <td>0.068989</td>\n",
       "      <td>0.019627</td>\n",
       "      <td>0.015505</td>\n",
       "      <td>8.780118</td>\n",
       "      <td>9.560003</td>\n",
       "      <td>9.579459</td>\n",
       "      <td>4.330168</td>\n",
       "      <td>4.704385</td>\n",
       "      <td>4.785806</td>\n",
       "    </tr>\n",
       "    <tr>\n",
       "      <th>1</th>\n",
       "      <td>0</td>\n",
       "      <td>11</td>\n",
       "      <td>0.892892</td>\n",
       "      <td>0.998911</td>\n",
       "      <td>[164.312, 165.244, 164.521, 164.058, 163.652, ...</td>\n",
       "      <td>[264.26, 264.56, 264.86, 265.16, 265.46, 265.7...</td>\n",
       "      <td>[165.105, 165.067, 165.009, 164.947, 164.894, ...</td>\n",
       "      <td>[376.34, 376.64, 376.94, 377.24, 377.54, 377.8...</td>\n",
       "      <td>[165.12, 165.08, 165.017, 164.967, 164.921, 16...</td>\n",
       "      <td>[640.75, 641.05, 641.35, 641.65, 641.95, 642.2...</td>\n",
       "      <td>...</td>\n",
       "      <td>247</td>\n",
       "      <td>0.678124</td>\n",
       "      <td>0.208146</td>\n",
       "      <td>0.227368</td>\n",
       "      <td>15.270366</td>\n",
       "      <td>11.325856</td>\n",
       "      <td>15.046738</td>\n",
       "      <td>5.183616</td>\n",
       "      <td>5.209412</td>\n",
       "      <td>7.127999</td>\n",
       "    </tr>\n",
       "    <tr>\n",
       "      <th>2</th>\n",
       "      <td>1</td>\n",
       "      <td>2212</td>\n",
       "      <td>0.989362</td>\n",
       "      <td>0.965398</td>\n",
       "      <td>[165.795, 165.82, 165.876, 165.935, 166.262, 1...</td>\n",
       "      <td>[265.46, 265.76, 266.06, 266.36, 266.66, 266.9...</td>\n",
       "      <td>[165.823, 165.872, 165.897, 165.947, 165.986, ...</td>\n",
       "      <td>[376.34, 376.64, 376.94, 377.24, 377.54, 377.8...</td>\n",
       "      <td>[165.52, 165.513, 165.514, 165.499, 165.503, 1...</td>\n",
       "      <td>[638.35, 638.65, 638.95, 639.25, 639.55, 639.8...</td>\n",
       "      <td>...</td>\n",
       "      <td>136</td>\n",
       "      <td>0.051740</td>\n",
       "      <td>0.042148</td>\n",
       "      <td>0.051166</td>\n",
       "      <td>9.527587</td>\n",
       "      <td>9.502338</td>\n",
       "      <td>9.154247</td>\n",
       "      <td>4.741021</td>\n",
       "      <td>4.736740</td>\n",
       "      <td>4.540850</td>\n",
       "    </tr>\n",
       "    <tr>\n",
       "      <th>3</th>\n",
       "      <td>0</td>\n",
       "      <td>11</td>\n",
       "      <td>0.975904</td>\n",
       "      <td>0.852632</td>\n",
       "      <td>[29.2438, 30.0678, 30.8277, 31.6639, 32.5629, ...</td>\n",
       "      <td>[44.06, 44.36, 44.66, 44.96, 45.26, 45.56, 45....</td>\n",
       "      <td>[69.065, 68.488, 69.0648, 68.2429, 68.1845, 68...</td>\n",
       "      <td>[32.84, 32.84, 33.14, 33.14, 33.44, 33.74, 34....</td>\n",
       "      <td>[70.8057, 70.2276, 70.032, 36.6363, 35.3826, 3...</td>\n",
       "      <td>[85.15, 89.65, 90.55, 96.25, 96.25, 96.25, 96....</td>\n",
       "      <td>...</td>\n",
       "      <td>73</td>\n",
       "      <td>0.104682</td>\n",
       "      <td>0.095082</td>\n",
       "      <td>0.416976</td>\n",
       "      <td>8.368626</td>\n",
       "      <td>9.767846</td>\n",
       "      <td>18.236148</td>\n",
       "      <td>3.894744</td>\n",
       "      <td>4.287840</td>\n",
       "      <td>7.973702</td>\n",
       "    </tr>\n",
       "    <tr>\n",
       "      <th>4</th>\n",
       "      <td>1</td>\n",
       "      <td>2212</td>\n",
       "      <td>0.993789</td>\n",
       "      <td>0.977597</td>\n",
       "      <td>[206.273, 206.107, 205.762, 205.37, 205.051, 2...</td>\n",
       "      <td>[531.26, 531.56, 531.86, 532.16, 532.46, 532.7...</td>\n",
       "      <td>[206.333, 206.315, 206.185, 205.851, 205.535, ...</td>\n",
       "      <td>[426.74, 427.04, 427.34, 427.64, 427.94, 428.2...</td>\n",
       "      <td>[206.366, 206.338, 206.139, 206.005, 205.845, ...</td>\n",
       "      <td>[958.45, 958.75, 959.05, 959.35, 959.65, 959.9...</td>\n",
       "      <td>...</td>\n",
       "      <td>242</td>\n",
       "      <td>0.025481</td>\n",
       "      <td>0.029441</td>\n",
       "      <td>0.017907</td>\n",
       "      <td>9.061623</td>\n",
       "      <td>10.049647</td>\n",
       "      <td>10.112642</td>\n",
       "      <td>4.524793</td>\n",
       "      <td>5.001940</td>\n",
       "      <td>5.047310</td>\n",
       "    </tr>\n",
       "  </tbody>\n",
       "</table>\n",
       "<p>5 rows × 32 columns</p>\n",
       "</div>"
      ],
      "text/plain": [
       "   isTrueTrack   pdg  completeness    purity  \\\n",
       "0            1  2212      1.000000  0.909091   \n",
       "1            0    11      0.892892  0.998911   \n",
       "2            1  2212      0.989362  0.965398   \n",
       "3            0    11      0.975904  0.852632   \n",
       "4            1  2212      0.993789  0.977597   \n",
       "\n",
       "                                                  xu  \\\n",
       "0  [119.256, 119.227, 118.956, 118.596, 118.286, ...   \n",
       "1  [164.312, 165.244, 164.521, 164.058, 163.652, ...   \n",
       "2  [165.795, 165.82, 165.876, 165.935, 166.262, 1...   \n",
       "3  [29.2438, 30.0678, 30.8277, 31.6639, 32.5629, ...   \n",
       "4  [206.273, 206.107, 205.762, 205.37, 205.051, 2...   \n",
       "\n",
       "                                                  zu  \\\n",
       "0  [452.06, 452.36, 452.66, 452.96, 453.26, 453.5...   \n",
       "1  [264.26, 264.56, 264.86, 265.16, 265.46, 265.7...   \n",
       "2  [265.46, 265.76, 266.06, 266.36, 266.66, 266.9...   \n",
       "3  [44.06, 44.36, 44.66, 44.96, 45.26, 45.56, 45....   \n",
       "4  [531.26, 531.56, 531.86, 532.16, 532.46, 532.7...   \n",
       "\n",
       "                                                  xv  \\\n",
       "0  [119.231, 119.332, 119.104, 118.985, 118.887, ...   \n",
       "1  [165.105, 165.067, 165.009, 164.947, 164.894, ...   \n",
       "2  [165.823, 165.872, 165.897, 165.947, 165.986, ...   \n",
       "3  [69.065, 68.488, 69.0648, 68.2429, 68.1845, 68...   \n",
       "4  [206.333, 206.315, 206.185, 205.851, 205.535, ...   \n",
       "\n",
       "                                                  zv  \\\n",
       "0  [393.74, 394.04, 394.64, 394.94, 395.24, 395.5...   \n",
       "1  [376.34, 376.64, 376.94, 377.24, 377.54, 377.8...   \n",
       "2  [376.34, 376.64, 376.94, 377.24, 377.54, 377.8...   \n",
       "3  [32.84, 32.84, 33.14, 33.14, 33.44, 33.74, 34....   \n",
       "4  [426.74, 427.04, 427.34, 427.64, 427.94, 428.2...   \n",
       "\n",
       "                                                  xw  \\\n",
       "0  [119.384, 119.3, 119.172, 119.087, 119.007, 11...   \n",
       "1  [165.12, 165.08, 165.017, 164.967, 164.921, 16...   \n",
       "2  [165.52, 165.513, 165.514, 165.499, 165.503, 1...   \n",
       "3  [70.8057, 70.2276, 70.032, 36.6363, 35.3826, 3...   \n",
       "4  [206.366, 206.338, 206.139, 206.005, 205.845, ...   \n",
       "\n",
       "                                                  zw    ...    nHits  \\\n",
       "0  [846.25, 846.55, 846.85, 847.15, 847.45, 847.7...    ...       41   \n",
       "1  [640.75, 641.05, 641.35, 641.65, 641.95, 642.2...    ...      247   \n",
       "2  [638.35, 638.65, 638.95, 639.25, 639.55, 639.8...    ...      136   \n",
       "3  [85.15, 89.65, 90.55, 96.25, 96.25, 96.25, 96....    ...       73   \n",
       "4  [958.45, 958.75, 959.05, 959.35, 959.65, 959.9...    ...      242   \n",
       "\n",
       "       RSSu      RSSv      RSSw  envelopeu  envelopev  envelopew   lengthu  \\\n",
       "0  0.068989  0.019627  0.015505   8.780118   9.560003   9.579459  4.330168   \n",
       "1  0.678124  0.208146  0.227368  15.270366  11.325856  15.046738  5.183616   \n",
       "2  0.051740  0.042148  0.051166   9.527587   9.502338   9.154247  4.741021   \n",
       "3  0.104682  0.095082  0.416976   8.368626   9.767846  18.236148  3.894744   \n",
       "4  0.025481  0.029441  0.017907   9.061623  10.049647  10.112642  4.524793   \n",
       "\n",
       "    lengthv   lengthw  \n",
       "0  4.704385  4.785806  \n",
       "1  5.209412  7.127999  \n",
       "2  4.736740  4.540850  \n",
       "3  4.287840  7.973702  \n",
       "4  5.001940  5.047310  \n",
       "\n",
       "[5 rows x 32 columns]"
      ]
     },
     "execution_count": 3,
     "metadata": {},
     "output_type": "execute_result"
    }
   ],
   "source": [
    "df = pd.read_csv('../BNB_nue data/nue_uvw_scaled.csv', index_col=0)\n",
    "df.head()"
   ]
  },
  {
   "cell_type": "code",
   "execution_count": 20,
   "metadata": {},
   "outputs": [
    {
     "data": {
      "text/plain": [
       "['RSSu',\n",
       " 'RSSv',\n",
       " 'RSSw',\n",
       " 'envelopeu',\n",
       " 'envelopev',\n",
       " 'envelopew',\n",
       " 'epsu',\n",
       " 'epsv',\n",
       " 'epsw',\n",
       " 'slidingu',\n",
       " 'slidingv',\n",
       " 'slidingw']"
      ]
     },
     "execution_count": 20,
     "metadata": {},
     "output_type": "execute_result"
    }
   ],
   "source": [
    "variables = ['eps','RSS', 'envelope', 'sliding']\n",
    "variablesu = [s + 'u' for s in variables]\n",
    "variablesv = [s + 'v' for s in variables]\n",
    "variablesw = [s + 'w' for s in variables]\n",
    "variables = sorted(variablesu+variablesv+variablesw)\n",
    "variables"
   ]
  },
  {
   "cell_type": "code",
   "execution_count": 5,
   "metadata": {},
   "outputs": [],
   "source": [
    "df_cut = df.loc[(df['completeness']>0.8) & (df['purity']>0.7) & (df['nHits']>4) ]"
   ]
  },
  {
   "cell_type": "code",
   "execution_count": 55,
   "metadata": {},
   "outputs": [
    {
     "name": "stderr",
     "output_type": "stream",
     "text": [
      "/home/dc/anaconda3/lib/python3.7/site-packages/scipy/stats/stats.py:1713: FutureWarning: Using a non-tuple sequence for multidimensional indexing is deprecated; use `arr[tuple(seq)]` instead of `arr[seq]`. In the future this will be interpreted as an array index, `arr[np.array(seq)]`, which will result either in an error or a different result.\n",
      "  return np.add.reduce(sorted[indexer] * weights, axis=axis) / sumval\n",
      "No handles with labels found to put in legend.\n",
      "No handles with labels found to put in legend.\n",
      "No handles with labels found to put in legend.\n",
      "No handles with labels found to put in legend.\n",
      "No handles with labels found to put in legend.\n",
      "No handles with labels found to put in legend.\n",
      "No handles with labels found to put in legend.\n",
      "No handles with labels found to put in legend.\n",
      "No handles with labels found to put in legend.\n",
      "No handles with labels found to put in legend.\n",
      "No handles with labels found to put in legend.\n",
      "No handles with labels found to put in legend.\n",
      "No handles with labels found to put in legend.\n",
      "No handles with labels found to put in legend.\n",
      "No handles with labels found to put in legend.\n",
      "No handles with labels found to put in legend.\n"
     ]
    }
   ],
   "source": [
    "planes=['u', 'v', 'w']\n",
    "length=4\n",
    "width=3\n",
    "fig, axarr = plt.subplots(length, width, figsize=(20,10))\n",
    "plt.gcf().subplots_adjust(bottom=-0.8)\n",
    "y=0\n",
    "x=0\n",
    "for i in range(len(variables)):\n",
    "    y=int(i/3)\n",
    "    x=i%3\n",
    "    sns.distplot(df_cut[df_cut.isTrueTrack==1][variables[i]], kde=False, label = 'track',ax=axarr[y][x])\n",
    "    sns.distplot(df_cut[df_cut.isTrueTrack==0][variables[i]], kde=False, label='shower',ax=axarr[y][x])\n",
    "    #sns.distplot(df_cut[df_cut.isTrueTrack==0]['epsw'], kde=False, label='w')\n",
    "    axarr[i%length][count%width].legend()\n",
    "    \n",
    "    plt.legend()\n",
    "    plt.close()"
   ]
  },
  {
   "cell_type": "code",
   "execution_count": 56,
   "metadata": {},
   "outputs": [
    {
     "data": {
      "image/png": "[encoded data removed]",
      "text/plain": [
       "<Figure size 1440x720 with 12 Axes>"
      ]
     },
     "execution_count": 56,
     "metadata": {},
     "output_type": "execute_result"
    }
   ],
   "source": [
    "fig"
   ]
  },
  {
   "cell_type": "code",
   "execution_count": 78,
   "metadata": {},
   "outputs": [
    {
     "data": {
      "text/plain": [
       "array([[584,  43],\n",
       "       [ 44, 473]])"
      ]
     },
     "execution_count": 78,
     "metadata": {},
     "output_type": "execute_result"
    }
   ],
   "source": [
    "train_variables=variablesw\n",
    "clf = GradientBoostingClassifier(max_depth=len(train_variables), random_state=42)\n",
    "y_pred = cross_val_predict(clf, df_cut[train_variables], df_cut['isTrueTrack'], cv=10)\n",
    "conf_mat = confusion_matrix(df_cut['isTrueTrack'], y_pred)\n",
    "conf_mat"
   ]
  },
  {
   "cell_type": "code",
   "execution_count": 79,
   "metadata": {},
   "outputs": [
    {
     "data": {
      "text/plain": [
       "array([[583,  44],\n",
       "       [ 48, 469]])"
      ]
     },
     "execution_count": 79,
     "metadata": {},
     "output_type": "execute_result"
    }
   ],
   "source": [
    "train_variables=variables\n",
    "clf = GradientBoostingClassifier(max_depth=len(train_variables), random_state=42)\n",
    "y_pred = cross_val_predict(clf, df_cut[train_variables], df_cut['isTrueTrack'], cv=10)\n",
    "conf_mat = confusion_matrix(df_cut['isTrueTrack'], y_pred)\n",
    "conf_mat"
   ]
  },
  {
   "cell_type": "code",
   "execution_count": 80,
   "metadata": {},
   "outputs": [],
   "source": []
  },
  {
   "cell_type": "code",
   "execution_count": null,
   "metadata": {},
   "outputs": [],
   "source": []
  },
  {
   "cell_type": "code",
   "execution_count": null,
   "metadata": {},
   "outputs": [],
   "source": []
  }
 ],
 "metadata": {
  "kernelspec": {
   "display_name": "Python 3",
   "language": "python",
   "name": "python3"
  },
  "language_info": {
   "codemirror_mode": {
    "name": "ipython",
    "version": 3
   },
   "file_extension": ".py",
   "mimetype": "text/x-python",
   "name": "python",
   "nbconvert_exporter": "python",
   "pygments_lexer": "ipython3",
   "version": "3.7.0"
  }
 },
 "nbformat": 4,
 "nbformat_minor": 2
}
