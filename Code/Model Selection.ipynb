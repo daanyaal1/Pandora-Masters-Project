{
 "cells": [
  {
   "cell_type": "code",
   "execution_count": 1,
   "metadata": {},
   "outputs": [],
   "source": [
    "import pandas as pd\n",
    "import numpy as np\n",
    "import Variables\n",
    "import warnings\n",
    "import matplotlib.pyplot as plt\n",
    "warnings.filterwarnings(\"ignore\")\n",
    "from sklearn.preprocessing import StandardScaler\n",
    "from sklearn.model_selection import train_test_split\n",
    "from sklearn import tree\n",
    "from sklearn.metrics import confusion_matrix\n",
    "from sklearn.metrics import roc_auc_score\n",
    "from sklearn.neural_network import MLPClassifier\n",
    "from sklearn.model_selection import KFold\n",
    "import graphviz \n",
    "from sklearn.metrics import accuracy_score\n",
    "from sklearn import svm\n",
    "from xgboost import XGBClassifier\n"
   ]
  },
  {
   "cell_type": "code",
   "execution_count": 107,
   "metadata": {},
   "outputs": [
    {
     "data": {
      "text/html": [
       "<div>\n",
       "<style scoped>\n",
       "    .dataframe tbody tr th:only-of-type {\n",
       "        vertical-align: middle;\n",
       "    }\n",
       "\n",
       "    .dataframe tbody tr th {\n",
       "        vertical-align: top;\n",
       "    }\n",
       "\n",
       "    .dataframe thead th {\n",
       "        text-align: right;\n",
       "    }\n",
       "</style>\n",
       "<table border=\"1\" class=\"dataframe\">\n",
       "  <thead>\n",
       "    <tr style=\"text-align: right;\">\n",
       "      <th></th>\n",
       "      <th>event</th>\n",
       "      <th>id</th>\n",
       "      <th>rss</th>\n",
       "      <th>rss2</th>\n",
       "      <th>pc2</th>\n",
       "      <th>nHits</th>\n",
       "      <th>eps</th>\n",
       "      <th>x</th>\n",
       "      <th>z</th>\n",
       "    </tr>\n",
       "  </thead>\n",
       "  <tbody>\n",
       "    <tr>\n",
       "      <th>0</th>\n",
       "      <td>1</td>\n",
       "      <td>1</td>\n",
       "      <td>0.001654</td>\n",
       "      <td>1.102131e-20</td>\n",
       "      <td>0.006942</td>\n",
       "      <td>3</td>\n",
       "      <td>1.99</td>\n",
       "      <td>[120.251, 120.21700000000001, 120.155]</td>\n",
       "      <td>[846.55, 846.85, 847.15]</td>\n",
       "    </tr>\n",
       "    <tr>\n",
       "      <th>1</th>\n",
       "      <td>2</td>\n",
       "      <td>1</td>\n",
       "      <td>0.010498</td>\n",
       "      <td>7.951052e-03</td>\n",
       "      <td>0.000208</td>\n",
       "      <td>41</td>\n",
       "      <td>0.16</td>\n",
       "      <td>[119.384, 119.3, 119.17200000000001, 119.087, ...</td>\n",
       "      <td>[846.25, 846.55, 846.85, 847.15, 847.45, 847.7...</td>\n",
       "    </tr>\n",
       "    <tr>\n",
       "      <th>2</th>\n",
       "      <td>3</td>\n",
       "      <td>1</td>\n",
       "      <td>0.012379</td>\n",
       "      <td>8.127149e-03</td>\n",
       "      <td>0.000855</td>\n",
       "      <td>22</td>\n",
       "      <td>0.30</td>\n",
       "      <td>[74.2968, 74.0868, 73.7909, 73.4989, 73.2195, ...</td>\n",
       "      <td>[949.75, 950.05, 950.35, 950.65, 950.95, 951.2...</td>\n",
       "    </tr>\n",
       "    <tr>\n",
       "      <th>3</th>\n",
       "      <td>4</td>\n",
       "      <td>1</td>\n",
       "      <td>0.003382</td>\n",
       "      <td>2.149869e-03</td>\n",
       "      <td>0.000672</td>\n",
       "      <td>13</td>\n",
       "      <td>0.46</td>\n",
       "      <td>[115.512, 115.676, 115.96799999999999, 116.283...</td>\n",
       "      <td>[842.35, 842.65, 842.95, 843.25, 843.55, 843.8...</td>\n",
       "    </tr>\n",
       "    <tr>\n",
       "      <th>4</th>\n",
       "      <td>5</td>\n",
       "      <td>0</td>\n",
       "      <td>47.848128</td>\n",
       "      <td>4.783315e+01</td>\n",
       "      <td>0.039021</td>\n",
       "      <td>247</td>\n",
       "      <td>0.35</td>\n",
       "      <td>[165.12, 165.08, 165.017, 164.967, 164.921, 16...</td>\n",
       "      <td>[640.75, 641.05, 641.35, 641.65, 641.95, 642.2...</td>\n",
       "    </tr>\n",
       "  </tbody>\n",
       "</table>\n",
       "</div>"
      ],
      "text/plain": [
       "   event  id        rss          rss2       pc2  nHits   eps  \\\n",
       "0      1   1   0.001654  1.102131e-20  0.006942      3  1.99   \n",
       "1      2   1   0.010498  7.951052e-03  0.000208     41  0.16   \n",
       "2      3   1   0.012379  8.127149e-03  0.000855     22  0.30   \n",
       "3      4   1   0.003382  2.149869e-03  0.000672     13  0.46   \n",
       "4      5   0  47.848128  4.783315e+01  0.039021    247  0.35   \n",
       "\n",
       "                                                   x  \\\n",
       "0             [120.251, 120.21700000000001, 120.155]   \n",
       "1  [119.384, 119.3, 119.17200000000001, 119.087, ...   \n",
       "2  [74.2968, 74.0868, 73.7909, 73.4989, 73.2195, ...   \n",
       "3  [115.512, 115.676, 115.96799999999999, 116.283...   \n",
       "4  [165.12, 165.08, 165.017, 164.967, 164.921, 16...   \n",
       "\n",
       "                                                   z  \n",
       "0                           [846.55, 846.85, 847.15]  \n",
       "1  [846.25, 846.55, 846.85, 847.15, 847.45, 847.7...  \n",
       "2  [949.75, 950.05, 950.35, 950.65, 950.95, 951.2...  \n",
       "3  [842.35, 842.65, 842.95, 843.25, 843.55, 843.8...  \n",
       "4  [640.75, 641.05, 641.35, 641.65, 641.95, 642.2...  "
      ]
     },
     "execution_count": 107,
     "metadata": {},
     "output_type": "execute_result"
    }
   ],
   "source": [
    "df = pd.read_csv('../BNB_nue data/pivot_df.csv')\n",
    "df = df[['event', 'id', 'rss','rss2', 'pc2', 'nHits', 'eps', 'x', 'z']]\n",
    "\n",
    "#nHitsLarge = df['nHits']>80\n",
    "#df = df[nHitsLarge].reset_index()\n",
    "df = df.dropna()\n",
    "df.head()"
   ]
  },
  {
   "cell_type": "code",
   "execution_count": 108,
   "metadata": {},
   "outputs": [],
   "source": [
    "#scaler = StandardScaler()\n",
    "#scaler.fit(pivot_df[['rss','rss2','pc2', 'nHits', 'eps']])\n",
    "#pivot_df[['rss', 'rss2', 'pc2', 'nHits', 'eps']] = scaler.transform(pivot_df[['rss','rss2', 'pc2', 'nHits', 'eps']])"
   ]
  },
  {
   "cell_type": "code",
   "execution_count": 109,
   "metadata": {},
   "outputs": [],
   "source": [
    "columns = ['rss', 'nHits', 'eps', 'rss2', 'pc2']\n",
    "X = df[columns]\n",
    "y = df['id']\n",
    "X = np.array(X)"
   ]
  },
  {
   "cell_type": "code",
   "execution_count": 110,
   "metadata": {},
   "outputs": [
    {
     "name": "stdout",
     "output_type": "stream",
     "text": [
      "0.7931881005660129\n",
      "[0.         0.04781671 0.09316269 0.67950581 0.17951479]\n",
      "[[105  25]\n",
      " [ 11  72]]\n"
     ]
    }
   ],
   "source": [
    "splits = 10\n",
    "kf = KFold(n_splits=splits)\n",
    "kf.get_n_splits(X)\n",
    "score = 0\n",
    "acc_sc = 0\n",
    "for train_index, test_index in kf.split(X):\n",
    "    #print(\"TRAIN:\", train_index, \"TEST:\", test_index)\n",
    "    X_train, X_test = X[train_index], X[test_index]\n",
    "    y_train, y_test = y[train_index], y[test_index]\n",
    "    clf = tree.DecisionTreeClassifier(max_depth=4)\n",
    "\n",
    "    clf = clf.fit(X_train, y_train )\n",
    "    y_pred = clf.predict(X_test)\n",
    "    #y_scores = clf.predict_proba(X_test)\n",
    "    #sc = roc_auc_score(y_test, y_scores[:,1])\n",
    "    #score+= sc\n",
    "    acc_sc += accuracy_score(y_test, y_pred)\n",
    "    #print(score)\n",
    "#print(score/splits)\n",
    "print(acc_sc/splits)\n",
    "print(clf.feature_importances_)\n",
    "print(confusion_matrix(y_test, y_pred))"
   ]
  },
  {
   "cell_type": "code",
   "execution_count": 111,
   "metadata": {},
   "outputs": [],
   "source": [
    "dotfile = open(\"../decisiontreegraph\", 'w')\n",
    "tree.export_graphviz(clf, out_file = dotfile, feature_names = columns)\n",
    "dotfile.close()\n",
    "\n"
   ]
  },
  {
   "cell_type": "code",
   "execution_count": null,
   "metadata": {},
   "outputs": [],
   "source": [
    "\n"
   ]
  },
  {
   "cell_type": "code",
   "execution_count": null,
   "metadata": {},
   "outputs": [],
   "source": []
  },
  {
   "cell_type": "code",
   "execution_count": null,
   "metadata": {},
   "outputs": [],
   "source": []
  },
  {
   "cell_type": "code",
   "execution_count": null,
   "metadata": {},
   "outputs": [],
   "source": []
  },
  {
   "cell_type": "code",
   "execution_count": null,
   "metadata": {},
   "outputs": [],
   "source": []
  },
  {
   "cell_type": "code",
   "execution_count": null,
   "metadata": {},
   "outputs": [],
   "source": []
  }
 ],
 "metadata": {
  "kernelspec": {
   "display_name": "Python 3",
   "language": "python",
   "name": "python3"
  },
  "language_info": {
   "codemirror_mode": {
    "name": "ipython",
    "version": 3
   },
   "file_extension": ".py",
   "mimetype": "text/x-python",
   "name": "python",
   "nbconvert_exporter": "python",
   "pygments_lexer": "ipython3",
   "version": "3.7.0"
  }
 },
 "nbformat": 4,
 "nbformat_minor": 2
}
