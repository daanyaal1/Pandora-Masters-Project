{
 "cells": [
  {
   "cell_type": "code",
   "execution_count": 328,
   "metadata": {},
   "outputs": [],
   "source": [
    "import pandas as pd\n",
    "import numpy as np\n",
    "import Variables\n",
    "import warnings\n",
    "import matplotlib.pyplot as plt\n",
    "warnings.filterwarnings(\"ignore\")\n",
    "from sklearn.preprocessing import StandardScaler\n",
    "from sklearn.model_selection import train_test_split\n",
    "from sklearn import tree\n",
    "from sklearn.metrics import confusion_matrix\n",
    "from sklearn.metrics import roc_auc_score\n",
    "from sklearn.neural_network import MLPClassifier\n",
    "from sklearn.model_selection import KFold\n",
    "import graphviz \n",
    "from sklearn.metrics import accuracy_score\n",
    "from sklearn import svm"
   ]
  },
  {
   "cell_type": "code",
   "execution_count": 427,
   "metadata": {},
   "outputs": [],
   "source": [
    "df = pd.read_csv('../BNB_nue data/pivot_df.csv')\n",
    "df = df[['id', 'rss','rss2', 'pc2', 'nHits', 'eps']]\n",
    "#nHitsLarge = df['nHits']>-0.6\n",
    "#df = df[nHitsLarge].reset_index()"
   ]
  },
  {
   "cell_type": "code",
   "execution_count": 392,
   "metadata": {},
   "outputs": [],
   "source": [
    "columns = ['rss', 'rss2','nHits', 'pc2', 'eps']\n",
    "X = df[columns]\n",
    "y = df['id']\n",
    "X = np.array(X)"
   ]
  },
  {
   "cell_type": "code",
   "execution_count": 423,
   "metadata": {},
   "outputs": [
    {
     "name": "stdout",
     "output_type": "stream",
     "text": [
      "0.79506384099\n",
      "[ 0.          0.64170497  0.06978924  0.19479429  0.0937115 ]\n",
      "[[107  23]\n",
      " [ 14  69]]\n"
     ]
    }
   ],
   "source": [
    "splits = 10\n",
    "kf = KFold(n_splits=splits)\n",
    "kf.get_n_splits(X)\n",
    "score = 0\n",
    "acc_sc = 0\n",
    "for train_index, test_index in kf.split(X):\n",
    "    #print(\"TRAIN:\", train_index, \"TEST:\", test_index)\n",
    "    X_train, X_test = X[train_index], X[test_index]\n",
    "    y_train, y_test = y[train_index], y[test_index]\n",
    "    clf = tree.DecisionTreeClassifier(criterion='entropy', max_depth=4)\n",
    "    clf = clf.fit(X_train, y_train )\n",
    "    y_pred = clf.predict(X_test)\n",
    "    #y_scores = clf.predict_proba(X_test)\n",
    "    #sc = roc_auc_score(y_test, y_scores[:,1])\n",
    "    score+= sc\n",
    "    acc_sc += accuracy_score(y_test, y_pred)\n",
    "    #print(score)\n",
    "#print(score/splits)\n",
    "print(acc_sc/splits)\n",
    "print(clf.feature_importances_)\n",
    "print(confusion_matrix(y_test, y_pred))"
   ]
  },
  {
   "cell_type": "code",
   "execution_count": 424,
   "metadata": {},
   "outputs": [],
   "source": [
    "dotfile = open(\"../decisiontreegraph\", 'w')\n",
    "tree.export_graphviz(clf, out_file = dotfile, feature_names = columns)\n",
    "dotfile.close()\n",
    "\n"
   ]
  },
  {
   "cell_type": "code",
   "execution_count": 242,
   "metadata": {},
   "outputs": [],
   "source": [
    "clf = MLPClassifier()\n",
    "clf = clf.fit(X_train, y_train )\n",
    "y_pred = clf.predict(X_test)\n",
    "y_scores = clf.predict_proba(X_test)"
   ]
  },
  {
   "cell_type": "code",
   "execution_count": 155,
   "metadata": {},
   "outputs": [
    {
     "data": {
      "text/plain": [
       "array([[106,  24],\n",
       "       [ 22,  61]], dtype=int64)"
      ]
     },
     "execution_count": 155,
     "metadata": {},
     "output_type": "execute_result"
    }
   ],
   "source": [
    "confusion_matrix(y_test, y_pred)"
   ]
  },
  {
   "cell_type": "code",
   "execution_count": 156,
   "metadata": {},
   "outputs": [
    {
     "data": {
      "text/plain": [
       "0.85597775718257652"
      ]
     },
     "execution_count": 156,
     "metadata": {},
     "output_type": "execute_result"
    }
   ],
   "source": [
    "roc_auc_score(y_test, y_scores[:,1])"
   ]
  },
  {
   "cell_type": "code",
   "execution_count": null,
   "metadata": {},
   "outputs": [],
   "source": []
  },
  {
   "cell_type": "code",
   "execution_count": null,
   "metadata": {},
   "outputs": [],
   "source": []
  },
  {
   "cell_type": "code",
   "execution_count": null,
   "metadata": {},
   "outputs": [],
   "source": []
  }
 ],
 "metadata": {
  "kernelspec": {
   "display_name": "Python 3",
   "language": "python",
   "name": "python3"
  },
  "language_info": {
   "codemirror_mode": {
    "name": "ipython",
    "version": 3
   },
   "file_extension": ".py",
   "mimetype": "text/x-python",
   "name": "python",
   "nbconvert_exporter": "python",
   "pygments_lexer": "ipython3",
   "version": "3.6.3"
  }
 },
 "nbformat": 4,
 "nbformat_minor": 2
}
