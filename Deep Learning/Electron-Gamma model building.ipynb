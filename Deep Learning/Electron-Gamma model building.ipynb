{
 "cells": [
  {
   "cell_type": "code",
   "execution_count": 1,
   "metadata": {},
   "outputs": [
    {
     "name": "stderr",
     "output_type": "stream",
     "text": [
      "Using TensorFlow backend.\n"
     ]
    }
   ],
   "source": [
    "import pandas as pd\n",
    "from sklearn.model_selection import train_test_split\n",
    "import matplotlib.pyplot as plt\n",
    "import keras\n",
    "from keras.models import Sequential\n",
    "from keras.layers import Dense, Dropout, Flatten, Conv2D, MaxPool2D\n",
    "from keras.layers.normalization import BatchNormalization\n",
    "from keras.preprocessing.image import ImageDataGenerator\n",
    "from keras.callbacks import ReduceLROnPlateau\n",
    "from sklearn.model_selection import train_test_split\n",
    "from sklearn.metrics import confusion_matrix\n",
    "import itertools\n",
    "import seaborn as sns\n",
    "from subprocess import check_output\n",
    "import numpy as np"
   ]
  },
  {
   "cell_type": "code",
   "execution_count": 2,
   "metadata": {},
   "outputs": [],
   "source": [
    "df_1=pd.read_csv('../Train/energy pixels/nue_train_energy_smeared.csv')\n",
    "df_2 = pd.read_csv('../Train/energy pixels/mu_train_energy_smeared.csv')\n",
    "df=pd.concat([df_1,df_2])"
   ]
  },
  {
   "cell_type": "code",
   "execution_count": 15,
   "metadata": {},
   "outputs": [
    {
     "data": {
      "text/plain": [
       "1109"
      ]
     },
     "execution_count": 15,
     "metadata": {},
     "output_type": "execute_result"
    }
   ],
   "source": [
    "pixel_cols=[str(i) for i in range(28*28)]\n",
    "#df[pixel_cols]=0\n",
    "df.head()\n",
    "len(df[df.pdg==11])"
   ]
  },
  {
   "cell_type": "code",
   "execution_count": 16,
   "metadata": {},
   "outputs": [],
   "source": [
    "df_train = pd.concat([df[df.pdg==22].head(int(1109/2)),df[df.pdg==11]])\n",
    "df_train['target']=np.where(df_train.pdg==22,1,0)"
   ]
  },
  {
   "cell_type": "code",
   "execution_count": 17,
   "metadata": {},
   "outputs": [],
   "source": [
    "x_train, x_test, y_train, y_test = train_test_split(df_train[pixel_cols], df_train['target'], test_size=0.01, random_state=42)\n",
    "X_train=(x_train.values).astype('float32')\n",
    "X_test=(x_test.values).astype('float32')\n",
    "Y_train=(y_train.values).astype('float32')\n",
    "Y_test=(y_test.values).astype('float32')"
   ]
  },
  {
   "cell_type": "code",
   "execution_count": 18,
   "metadata": {},
   "outputs": [
    {
     "data": {
      "image/png": "[encoded data removed]",
      "text/plain": [
       "<matplotlib.figure.Figure at 0x3f200550>"
      ]
     },
     "metadata": {},
     "output_type": "display_data"
    }
   ],
   "source": [
    "%matplotlib inline\n",
    "# preview the images first\n",
    "plt.figure(figsize=(12,10))\n",
    "x, y = 10, 4\n",
    "count=1\n",
    "for i in range(20):  \n",
    "    plt.subplot(y, x, count)\n",
    "    count+=1\n",
    "    plt.imshow(X_train[i].reshape((28,28)),interpolation='nearest')\n",
    "#plt.savefig('CNN Input images.eps')\n",
    "plt.show()\n"
   ]
  },
  {
   "cell_type": "code",
   "execution_count": 19,
   "metadata": {},
   "outputs": [],
   "source": [
    "X_train = X_train/255.0\n",
    "X_test =X_test/255.0"
   ]
  },
  {
   "cell_type": "code",
   "execution_count": 20,
   "metadata": {},
   "outputs": [],
   "source": [
    "X_train = X_train.reshape(X_train.shape[0], 28, 28,1)\n",
    "X_test = X_test.reshape(X_test.shape[0], 28, 28,1)\n",
    "#X_test"
   ]
  },
  {
   "cell_type": "code",
   "execution_count": 21,
   "metadata": {},
   "outputs": [],
   "source": [
    "batch_size = 64\n",
    "num_classes = 2\n",
    "epochs = 20\n",
    "input_shape = (28, 28, 1)\n"
   ]
  },
  {
   "cell_type": "code",
   "execution_count": 22,
   "metadata": {},
   "outputs": [],
   "source": [
    "# convert class vectors to binary class matrices One Hot Encoding\n",
    "y_train = keras.utils.to_categorical(y_train, num_classes)\n",
    "X_train, X_val, Y_train, Y_val = train_test_split(X_train, y_train, test_size = 0.01, random_state=42)"
   ]
  },
  {
   "cell_type": "code",
   "execution_count": 23,
   "metadata": {},
   "outputs": [],
   "source": [
    "#Linear model\n",
    "model = Sequential()\n",
    "model.add(Conv2D(32, kernel_size=(3, 3),activation='relu',kernel_initializer='he_normal',input_shape=input_shape))\n",
    "model.add(Conv2D(32, kernel_size=(3, 3),activation='relu',kernel_initializer='he_normal'))\n",
    "model.add(MaxPool2D((2, 2)))\n",
    "model.add(Dropout(0.20))\n",
    "model.add(Conv2D(64, (3, 3), activation='relu',padding='same',kernel_initializer='he_normal'))\n",
    "model.add(Conv2D(64, (3, 3), activation='relu',padding='same',kernel_initializer='he_normal'))\n",
    "model.add(MaxPool2D(pool_size=(2, 2)))\n",
    "model.add(Dropout(0.25))\n",
    "model.add(Conv2D(128, (3, 3), activation='relu',padding='same',kernel_initializer='he_normal'))\n",
    "model.add(Dropout(0.25))\n",
    "model.add(Flatten())\n",
    "model.add(Dense(128, activation='relu'))\n",
    "model.add(BatchNormalization())\n",
    "model.add(Dropout(0.25))\n",
    "model.add(Dense(num_classes, activation='softmax'))\n",
    "\n",
    "model.compile(loss=keras.losses.categorical_crossentropy,\n",
    "              optimizer=keras.optimizers.RMSprop(),\n",
    "              metrics=['accuracy'])\n",
    "\n",
    "learning_rate_reduction = ReduceLROnPlateau(monitor='val_acc', \n",
    "                                            patience=3, \n",
    "                                            verbose=1, \n",
    "                                            factor=0.5, \n",
    "                                            min_lr=0.0001)\n",
    "\n",
    "datagen = ImageDataGenerator(\n",
    "        featurewise_center=False,  # set input mean to 0 over the dataset\n",
    "        samplewise_center=False,  # set each sample mean to 0\n",
    "        featurewise_std_normalization=False,  # divide inputs by std of the dataset\n",
    "        samplewise_std_normalization=False,  # divide each input by its std\n",
    "        zca_whitening=False,  # apply ZCA whitening\n",
    "        rotation_range=15, # randomly rotate images in the range (degrees, 0 to 180)\n",
    "        zoom_range = 0.1, # Randomly zoom image \n",
    "        width_shift_range=0.1,  # randomly shift images horizontally (fraction of total width)\n",
    "        height_shift_range=0.1,  # randomly shift images vertically (fraction of total height)\n",
    "        horizontal_flip=False,  # randomly flip images\n",
    "        vertical_flip=False)  # randomly flip images"
   ]
  },
  {
   "cell_type": "code",
   "execution_count": 24,
   "metadata": {},
   "outputs": [
    {
     "name": "stdout",
     "output_type": "stream",
     "text": [
      "Epoch 1/20\n",
      "25/25 [==============================] - 11s - loss: 0.6908 - acc: 0.6631 - val_loss: 1.6040 - val_acc: 0.5294\n",
      "Epoch 2/20\n",
      "25/25 [==============================] - 9s - loss: 0.5643 - acc: 0.7265 - val_loss: 1.1323 - val_acc: 0.3529\n",
      "Epoch 3/20\n",
      "25/25 [==============================] - 9s - loss: 0.5514 - acc: 0.7296 - val_loss: 0.9049 - val_acc: 0.5882\n",
      "Epoch 4/20\n",
      "25/25 [==============================] - 9s - loss: 0.5123 - acc: 0.7560 - val_loss: 0.9605 - val_acc: 0.5882\n",
      "Epoch 5/20\n",
      "25/25 [==============================] - 9s - loss: 0.5155 - acc: 0.7478 - val_loss: 1.1442 - val_acc: 0.5882\n",
      "Epoch 6/20\n",
      "25/25 [==============================] - 9s - loss: 0.4713 - acc: 0.7654 - val_loss: 1.1272 - val_acc: 0.5882\n",
      "Epoch 7/20\n",
      "24/25 [===========================>..] - ETA: 0s - loss: 0.5190 - acc: 0.7707\n",
      "Epoch 00006: reducing learning rate to 0.0005000000237487257.\n",
      "25/25 [==============================] - 10s - loss: 0.5207 - acc: 0.7661 - val_loss: 0.9119 - val_acc: 0.5882\n",
      "Epoch 8/20\n",
      "25/25 [==============================] - 9s - loss: 0.5162 - acc: 0.7420 - val_loss: 0.7844 - val_acc: 0.5882\n",
      "Epoch 9/20\n",
      "25/25 [==============================] - 9s - loss: 0.4592 - acc: 0.7839 - val_loss: 0.6562 - val_acc: 0.5882\n",
      "Epoch 10/20\n",
      "24/25 [===========================>..] - ETA: 0s - loss: 0.4567 - acc: 0.7756\n",
      "Epoch 00009: reducing learning rate to 0.0002500000118743628.\n",
      "25/25 [==============================] - 9s - loss: 0.4572 - acc: 0.7753 - val_loss: 0.6104 - val_acc: 0.5882\n",
      "Epoch 11/20\n",
      "25/25 [==============================] - 9s - loss: 0.5108 - acc: 0.7598 - val_loss: 0.5966 - val_acc: 0.5882\n",
      "Epoch 12/20\n",
      "25/25 [==============================] - 10s - loss: 0.4598 - acc: 0.7884 - val_loss: 0.5734 - val_acc: 0.5882\n",
      "Epoch 13/20\n",
      "25/25 [==============================] - 9s - loss: 0.4715 - acc: 0.7802 - val_loss: 0.5368 - val_acc: 0.6471\n",
      "Epoch 14/20\n",
      "25/25 [==============================] - 9s - loss: 0.4855 - acc: 0.7677 - val_loss: 0.5082 - val_acc: 0.6471\n",
      "Epoch 15/20\n",
      "25/25 [==============================] - 9s - loss: 0.4617 - acc: 0.7812 - val_loss: 0.5244 - val_acc: 0.5882\n",
      "Epoch 16/20\n",
      "25/25 [==============================] - 9s - loss: 0.4752 - acc: 0.7639 - val_loss: 0.5116 - val_acc: 0.7059\n",
      "Epoch 17/20\n",
      "25/25 [==============================] - 9s - loss: 0.4899 - acc: 0.7560 - val_loss: 0.4836 - val_acc: 0.7059\n",
      "Epoch 18/20\n",
      "25/25 [==============================] - 9s - loss: 0.4572 - acc: 0.7677 - val_loss: 0.4597 - val_acc: 0.7647\n",
      "Epoch 19/20\n",
      "25/25 [==============================] - 9s - loss: 0.4741 - acc: 0.7694 - val_loss: 0.4705 - val_acc: 0.7059\n",
      "Epoch 20/20\n",
      "25/25 [==============================] - 9s - loss: 0.4619 - acc: 0.7749 - val_loss: 0.4706 - val_acc: 0.7647\n"
     ]
    }
   ],
   "source": [
    "datagen.fit(X_train)\n",
    "#from keras.models import load_model\n",
    "#model = load_model('topological_model.h5')\n",
    "h = model.fit_generator(datagen.flow(X_train,Y_train, batch_size=batch_size),\n",
    "                              epochs = epochs, validation_data = (X_val,Y_val),\n",
    "                              verbose = 1, steps_per_epoch=X_train.shape[0] // batch_size\n",
    "                              , callbacks=[learning_rate_reduction],)"
   ]
  },
  {
   "cell_type": "code",
   "execution_count": 25,
   "metadata": {},
   "outputs": [
    {
     "data": {
      "image/png": "[encoded data removed]",
      "text/plain": [
       "<matplotlib.figure.Figure at 0x184c4588>"
      ]
     },
     "metadata": {},
     "output_type": "display_data"
    }
   ],
   "source": [
    "# Look at confusion matrix \n",
    "#Note, this code is taken straight from the SKLEARN website, an nice way of viewing confusion matrix.\n",
    "def plot_confusion_matrix(cm, classes,\n",
    "                          normalize=False,\n",
    "                          title='Confusion matrix',\n",
    "                          cmap=plt.cm.Blues):\n",
    "    \"\"\"\n",
    "    This function prints and plots the confusion matrix.\n",
    "    Normalization can be applied by setting `normalize=True`.\n",
    "    \"\"\"\n",
    "    plt.imshow(cm, interpolation='nearest', cmap=cmap)\n",
    "    plt.title(title)\n",
    "    plt.colorbar()\n",
    "    tick_marks = np.arange(len(classes))\n",
    "    plt.xticks(tick_marks, classes, rotation=45)\n",
    "    plt.yticks(tick_marks, classes)\n",
    "\n",
    "    if normalize:\n",
    "        cm = cm.astype('float') / cm.sum(axis=1)[:, np.newaxis]\n",
    "\n",
    "    thresh = cm.max() / 2.\n",
    "    for i, j in itertools.product(range(cm.shape[0]), range(cm.shape[1])):\n",
    "        plt.text(j, i, cm[i, j],\n",
    "                 horizontalalignment=\"center\",\n",
    "                 color=\"white\" if cm[i, j] > thresh else \"black\")\n",
    "\n",
    "    plt.tight_layout()\n",
    "    plt.ylabel('True label')\n",
    "    plt.xlabel('Predicted label')\n",
    "#pred = (df_1[pixel_cols].tail(9000).values).astype('float32')/255.0\n",
    "#pred= pred.reshape(pred.shape[0], 28, 28,1)\n",
    "# Predict the values from the validation dataset\n",
    "\n",
    "Y_pred = model.predict(X_test)\n",
    "\n",
    "\n",
    "# Convert predictions classes to one hot vectors \n",
    "Y_pred_classes = np.argmax(Y_pred, axis = 1) \n",
    "# Convert validation observations to one hot vectors\n",
    "Y_true = np.argmax(Y_val, axis = 1) \n",
    "# compute the confusion matrix\n",
    "confusion_mtx = confusion_matrix(Y_test , Y_pred_classes) \n",
    "# plot the confusion matrix\n",
    "plot_confusion_matrix(confusion_mtx, classes = range(2))\n",
    "plt.savefig('CNN Confusion Matrix- hitaveragedenergypixels.png')"
   ]
  },
  {
   "cell_type": "code",
   "execution_count": 26,
   "metadata": {},
   "outputs": [],
   "source": [
    "model.save('electron-gamma_model.h5')\n",
    "#json_string = model.to_json()"
   ]
  },
  {
   "cell_type": "code",
   "execution_count": null,
   "metadata": {},
   "outputs": [],
   "source": []
  }
 ],
 "metadata": {
  "kernelspec": {
   "display_name": "Python 3",
   "language": "python",
   "name": "python3"
  },
  "language_info": {
   "codemirror_mode": {
    "name": "ipython",
    "version": 3
   },
   "file_extension": ".py",
   "mimetype": "text/x-python",
   "name": "python",
   "nbconvert_exporter": "python",
   "pygments_lexer": "ipython3",
   "version": "3.6.3"
  }
 },
 "nbformat": 4,
 "nbformat_minor": 2
}
